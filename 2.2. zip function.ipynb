{
 "cells": [
  {
   "cell_type": "code",
   "execution_count": 1,
   "metadata": {},
   "outputs": [],
   "source": [
    "# points scored by each of five players in game1\n",
    "points_game1 = [50, 40, 60, 70, 80]"
   ]
  },
  {
   "cell_type": "code",
   "execution_count": 2,
   "metadata": {},
   "outputs": [],
   "source": [
    "# points scored by each of five players in game2\n",
    "points_game2 = [76, 81, 53, 92, 67]"
   ]
  },
  {
   "cell_type": "code",
   "execution_count": 3,
   "metadata": {},
   "outputs": [
    {
     "data": {
      "text/plain": [
       "[26, 41, 7, 22, 13]"
      ]
     },
     "execution_count": 3,
     "metadata": {},
     "output_type": "execute_result"
    }
   ],
   "source": [
    "# sequence where points differences will be saved\n",
    "\n",
    "diffs = []\n",
    "\n",
    "# iterate through points_game1 and points_game2 at the same time\n",
    "\n",
    "for x, y in zip(points_game1, points_game2):\n",
    "    \n",
    "    # compute absolute difference in points between game1 and game2\n",
    "    # add to diffs\n",
    "    diffs.append(abs(x - y))\n",
    "    \n",
    "diffs"
   ]
  },
  {
   "cell_type": "code",
   "execution_count": null,
   "metadata": {},
   "outputs": [],
   "source": []
  }
 ],
 "metadata": {
  "kernelspec": {
   "display_name": "Python 3",
   "language": "python",
   "name": "python3"
  },
  "language_info": {
   "codemirror_mode": {
    "name": "ipython",
    "version": 3
   },
   "file_extension": ".py",
   "mimetype": "text/x-python",
   "name": "python",
   "nbconvert_exporter": "python",
   "pygments_lexer": "ipython3",
   "version": "3.7.6"
  }
 },
 "nbformat": 4,
 "nbformat_minor": 4
}
