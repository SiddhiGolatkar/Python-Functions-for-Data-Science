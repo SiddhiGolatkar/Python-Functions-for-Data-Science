{
 "cells": [
  {
   "cell_type": "code",
   "execution_count": 1,
   "metadata": {},
   "outputs": [],
   "source": [
    "# import relevant libraries\n",
    "\n",
    "import numpy as np\n",
    "import pandas as pd"
   ]
  },
  {
   "cell_type": "code",
   "execution_count": 2,
   "metadata": {},
   "outputs": [
    {
     "data": {
      "text/plain": [
       "0    -5\n",
       "1     5\n",
       "2     0\n",
       "3    -2\n",
       "4   -10\n",
       "5     7\n",
       "6     4\n",
       "7    -8\n",
       "dtype: int32"
      ]
     },
     "execution_count": 2,
     "metadata": {},
     "output_type": "execute_result"
    }
   ],
   "source": [
    "# create a pandas series containing 8 random integers from -10 to 10 inclusive\n",
    "\n",
    "pd.Series(np.random.randint(-10, 11, size=8))"
   ]
  },
  {
   "cell_type": "code",
   "execution_count": 3,
   "metadata": {},
   "outputs": [
    {
     "data": {
      "text/plain": [
       "a    -5\n",
       "b    -4\n",
       "c     4\n",
       "d    -7\n",
       "e     4\n",
       "f    -7\n",
       "g    -3\n",
       "h    10\n",
       "dtype: int32"
      ]
     },
     "execution_count": 3,
     "metadata": {},
     "output_type": "execute_result"
    }
   ],
   "source": [
    "# create a pandas series containing 8 random integers from -10 to 10 inclusive \n",
    "# with index being a through h\n",
    "\n",
    "pd.Series(np.random.randint(-10, 11, size=8),\n",
    "         index=['a', 'b', 'c', 'd', 'e', 'f', 'g', 'h'])"
   ]
  },
  {
   "cell_type": "code",
   "execution_count": 4,
   "metadata": {},
   "outputs": [
    {
     "data": {
      "text/plain": [
       "Mon     True\n",
       "Tue    False\n",
       "Wed     True\n",
       "Thu    False\n",
       "Fri     True\n",
       "Sat    False\n",
       "Sun     True\n",
       "dtype: bool"
      ]
     },
     "execution_count": 4,
     "metadata": {},
     "output_type": "execute_result"
    }
   ],
   "source": [
    "# create a pandas series from a Python dictionary\n",
    "\n",
    "pd.Series({'Mon': True, 'Tue': False, 'Wed': True, 'Thu': False,\n",
    "          'Fri': True, 'Sat': False, 'Sun': True})"
   ]
  },
  {
   "cell_type": "code",
   "execution_count": 5,
   "metadata": {},
   "outputs": [
    {
     "data": {
      "text/plain": [
       "1     150\n",
       "2     150\n",
       "3     150\n",
       "4     150\n",
       "5     150\n",
       "6     150\n",
       "7     150\n",
       "8     150\n",
       "9     150\n",
       "10    150\n",
       "dtype: int64"
      ]
     },
     "execution_count": 5,
     "metadata": {},
     "output_type": "execute_result"
    }
   ],
   "source": [
    "# create a pandas series from a scalar value\n",
    "# to represent the maximum number of points students can earn \n",
    "# in each of 10 exams for a particular course\n",
    "\n",
    "pd.Series(150, index=np.arange(1, 11))"
   ]
  },
  {
   "cell_type": "code",
   "execution_count": null,
   "metadata": {},
   "outputs": [],
   "source": []
  }
 ],
 "metadata": {
  "kernelspec": {
   "display_name": "Python 3",
   "language": "python",
   "name": "python3"
  },
  "language_info": {
   "codemirror_mode": {
    "name": "ipython",
    "version": 3
   },
   "file_extension": ".py",
   "mimetype": "text/x-python",
   "name": "python",
   "nbconvert_exporter": "python",
   "pygments_lexer": "ipython3",
   "version": "3.7.6"
  }
 },
 "nbformat": 4,
 "nbformat_minor": 4
}
