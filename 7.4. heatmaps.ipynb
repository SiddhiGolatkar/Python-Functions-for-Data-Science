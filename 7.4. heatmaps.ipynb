{
 "cells": [
  {
   "cell_type": "code",
   "execution_count": 1,
   "metadata": {},
   "outputs": [],
   "source": [
    "# import relevant libraries\n",
    "\n",
    "import numpy as np\n",
    "import pandas as pd\n",
    "import matplotlib.pyplot as plt\n",
    "import seaborn as sns"
   ]
  },
  {
   "cell_type": "code",
   "execution_count": 2,
   "metadata": {},
   "outputs": [],
   "source": [
    "# create a variable that contains a numpy array representing the sales of a small business for each of 12 months\n",
    "\n",
    "data = np.random.randint(100, 301, size=(12,12))\n",
    "\n",
    "# create a variable that contains the list of months\n",
    "\n",
    "months = ['January', 'February', 'March', 'April', 'May', 'June', 'July',\n",
    "         'August', 'September', 'October', 'November', 'December']\n",
    "\n",
    "# create a variable that contains a list of the years from 2008 to 2019 inclusive\n",
    "\n",
    "years = [2008, 2009, 2010, 2011, 2012, 2013, 2014, 2015, 2016, 2017, 2018, 2019]\n",
    "\n",
    "# create a variable named sales that contains a dataframe \n",
    "# the dataframe consists of the sales of a small business across 12 months\n",
    "# there is an entry for each month of each year between 2008 and 2019 inclusive\n",
    "\n",
    "sales = pd.DataFrame(data, index=months, columns=years)"
   ]
  },
  {
   "cell_type": "code",
   "execution_count": 3,
   "metadata": {},
   "outputs": [
    {
     "data": {
      "text/html": [
       "<div>\n",
       "<style scoped>\n",
       "    .dataframe tbody tr th:only-of-type {\n",
       "        vertical-align: middle;\n",
       "    }\n",
       "\n",
       "    .dataframe tbody tr th {\n",
       "        vertical-align: top;\n",
       "    }\n",
       "\n",
       "    .dataframe thead th {\n",
       "        text-align: right;\n",
       "    }\n",
       "</style>\n",
       "<table border=\"1\" class=\"dataframe\">\n",
       "  <thead>\n",
       "    <tr style=\"text-align: right;\">\n",
       "      <th></th>\n",
       "      <th>2008</th>\n",
       "      <th>2009</th>\n",
       "      <th>2010</th>\n",
       "      <th>2011</th>\n",
       "      <th>2012</th>\n",
       "      <th>2013</th>\n",
       "      <th>2014</th>\n",
       "      <th>2015</th>\n",
       "      <th>2016</th>\n",
       "      <th>2017</th>\n",
       "      <th>2018</th>\n",
       "      <th>2019</th>\n",
       "    </tr>\n",
       "  </thead>\n",
       "  <tbody>\n",
       "    <tr>\n",
       "      <th>January</th>\n",
       "      <td>291</td>\n",
       "      <td>238</td>\n",
       "      <td>182</td>\n",
       "      <td>229</td>\n",
       "      <td>153</td>\n",
       "      <td>263</td>\n",
       "      <td>128</td>\n",
       "      <td>265</td>\n",
       "      <td>148</td>\n",
       "      <td>229</td>\n",
       "      <td>148</td>\n",
       "      <td>132</td>\n",
       "    </tr>\n",
       "    <tr>\n",
       "      <th>February</th>\n",
       "      <td>217</td>\n",
       "      <td>202</td>\n",
       "      <td>207</td>\n",
       "      <td>189</td>\n",
       "      <td>193</td>\n",
       "      <td>162</td>\n",
       "      <td>148</td>\n",
       "      <td>242</td>\n",
       "      <td>111</td>\n",
       "      <td>297</td>\n",
       "      <td>275</td>\n",
       "      <td>213</td>\n",
       "    </tr>\n",
       "    <tr>\n",
       "      <th>March</th>\n",
       "      <td>176</td>\n",
       "      <td>118</td>\n",
       "      <td>170</td>\n",
       "      <td>137</td>\n",
       "      <td>191</td>\n",
       "      <td>113</td>\n",
       "      <td>183</td>\n",
       "      <td>189</td>\n",
       "      <td>291</td>\n",
       "      <td>156</td>\n",
       "      <td>295</td>\n",
       "      <td>109</td>\n",
       "    </tr>\n",
       "    <tr>\n",
       "      <th>April</th>\n",
       "      <td>172</td>\n",
       "      <td>200</td>\n",
       "      <td>132</td>\n",
       "      <td>172</td>\n",
       "      <td>232</td>\n",
       "      <td>272</td>\n",
       "      <td>259</td>\n",
       "      <td>169</td>\n",
       "      <td>278</td>\n",
       "      <td>239</td>\n",
       "      <td>299</td>\n",
       "      <td>113</td>\n",
       "    </tr>\n",
       "    <tr>\n",
       "      <th>May</th>\n",
       "      <td>185</td>\n",
       "      <td>272</td>\n",
       "      <td>291</td>\n",
       "      <td>133</td>\n",
       "      <td>157</td>\n",
       "      <td>209</td>\n",
       "      <td>100</td>\n",
       "      <td>268</td>\n",
       "      <td>286</td>\n",
       "      <td>116</td>\n",
       "      <td>133</td>\n",
       "      <td>153</td>\n",
       "    </tr>\n",
       "  </tbody>\n",
       "</table>\n",
       "</div>"
      ],
      "text/plain": [
       "          2008  2009  2010  2011  2012  2013  2014  2015  2016  2017  2018  \\\n",
       "January    291   238   182   229   153   263   128   265   148   229   148   \n",
       "February   217   202   207   189   193   162   148   242   111   297   275   \n",
       "March      176   118   170   137   191   113   183   189   291   156   295   \n",
       "April      172   200   132   172   232   272   259   169   278   239   299   \n",
       "May        185   272   291   133   157   209   100   268   286   116   133   \n",
       "\n",
       "          2019  \n",
       "January    132  \n",
       "February   213  \n",
       "March      109  \n",
       "April      113  \n",
       "May        153  "
      ]
     },
     "execution_count": 3,
     "metadata": {},
     "output_type": "execute_result"
    }
   ],
   "source": [
    "# display first few rows of sales\n",
    "\n",
    "sales.head()"
   ]
  },
  {
   "cell_type": "code",
   "execution_count": 4,
   "metadata": {},
   "outputs": [
    {
     "data": {
      "image/png": "[encoded data removed]",
      "text/plain": [
       "<Figure size 432x288 with 2 Axes>"
      ]
     },
     "metadata": {
      "needs_background": "light"
     },
     "output_type": "display_data"
    }
   ],
   "source": [
    "# create a heatmap of sales\n",
    "\n",
    "sns.heatmap(sales);"
   ]
  },
  {
   "cell_type": "code",
   "execution_count": null,
   "metadata": {},
   "outputs": [],
   "source": []
  }
 ],
 "metadata": {
  "kernelspec": {
   "display_name": "Python 3",
   "language": "python",
   "name": "python3"
  },
  "language_info": {
   "codemirror_mode": {
    "name": "ipython",
    "version": 3
   },
   "file_extension": ".py",
   "mimetype": "text/x-python",
   "name": "python",
   "nbconvert_exporter": "python",
   "pygments_lexer": "ipython3",
   "version": "3.7.6"
  }
 },
 "nbformat": 4,
 "nbformat_minor": 4
}
