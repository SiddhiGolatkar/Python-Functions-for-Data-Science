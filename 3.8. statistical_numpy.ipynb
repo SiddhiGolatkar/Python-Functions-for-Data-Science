{
 "cells": [
  {
   "cell_type": "code",
   "execution_count": 1,
   "metadata": {},
   "outputs": [],
   "source": [
    "# import relevant libraries\n",
    "\n",
    "import numpy as np"
   ]
  },
  {
   "cell_type": "code",
   "execution_count": 2,
   "metadata": {},
   "outputs": [],
   "source": [
    "# initialize arrayA as a numpy array \n",
    "# representing the scores of participants in a competition\n",
    "\n",
    "scores = np.random.randint(50, 101, 200)"
   ]
  },
  {
   "cell_type": "code",
   "execution_count": 3,
   "metadata": {},
   "outputs": [
    {
     "data": {
      "text/plain": [
       "array([ 98,  65,  90,  62,  94,  76,  69,  97,  92,  57,  67,  69,  88,\n",
       "        66,  57,  98,  68,  73,  92,  81,  83, 100,  78,  58,  56,  83,\n",
       "        76,  55,  79,  98,  71,  84,  70,  76,  54,  59,  98,  62,  57,\n",
       "        63,  53,  86,  71,  93,  81,  58,  95,  81,  52,  50,  77,  80,\n",
       "        83,  65,  76,  63,  54,  62,  65,  58,  52,  55,  54,  81,  88,\n",
       "        89,  71,  70,  98,  90,  88,  73,  77,  69, 100,  95,  87,  82,\n",
       "        93,  96,  77,  81,  87,  83,  81,  86,  89,  78,  98,  74,  57,\n",
       "        65,  67,  95,  66,  90,  97,  92,  74,  71,  93,  77,  64,  85,\n",
       "        62,  97,  95,  74,  92,  97,  85,  75,  74,  81,  92, 100,  57,\n",
       "        56,  84,  81,  73,  94,  78,  84,  70,  77,  69,  98,  64,  80,\n",
       "        84,  54,  92,  65,  64,  74,  73,  85,  63,  75,  60,  76,  59,\n",
       "        80,  97,  77, 100,  64,  86,  58,  65,  60,  98,  71,  88,  94,\n",
       "        51,  53,  64,  59,  76,  65,  86,  94,  67,  78,  74,  71,  93,\n",
       "        90,  61,  73,  54,  72,  97,  63,  70,  51,  52,  92,  74,  78,\n",
       "        66,  68,  70,  56,  70,  64, 100,  68,  74,  81,  96,  88,  71,\n",
       "        61,  96,  97,  90,  58])"
      ]
     },
     "execution_count": 3,
     "metadata": {},
     "output_type": "execute_result"
    }
   ],
   "source": [
    "scores"
   ]
  },
  {
   "cell_type": "code",
   "execution_count": 4,
   "metadata": {},
   "outputs": [
    {
     "data": {
      "text/plain": [
       "76.0"
      ]
     },
     "execution_count": 4,
     "metadata": {},
     "output_type": "execute_result"
    }
   ],
   "source": [
    "# compute the median of scores\n",
    "\n",
    "np.median(scores)"
   ]
  },
  {
   "cell_type": "code",
   "execution_count": 5,
   "metadata": {},
   "outputs": [
    {
     "data": {
      "text/plain": [
       "76.2"
      ]
     },
     "execution_count": 5,
     "metadata": {},
     "output_type": "execute_result"
    }
   ],
   "source": [
    "# compute the mean of scores\n",
    "\n",
    "np.mean(scores)"
   ]
  },
  {
   "cell_type": "code",
   "execution_count": 6,
   "metadata": {},
   "outputs": [
    {
     "data": {
      "text/plain": [
       "197.47"
      ]
     },
     "execution_count": 6,
     "metadata": {},
     "output_type": "execute_result"
    }
   ],
   "source": [
    "# compute the variance of scores\n",
    "\n",
    "np.var(scores)"
   ]
  },
  {
   "cell_type": "code",
   "execution_count": 7,
   "metadata": {},
   "outputs": [
    {
     "data": {
      "text/plain": [
       "14.052401929919311"
      ]
     },
     "execution_count": 7,
     "metadata": {},
     "output_type": "execute_result"
    }
   ],
   "source": [
    "# compute the standard deviation of scores\n",
    "\n",
    "np.std(scores)"
   ]
  },
  {
   "cell_type": "code",
   "execution_count": null,
   "metadata": {},
   "outputs": [],
   "source": []
  }
 ],
 "metadata": {
  "kernelspec": {
   "display_name": "Python 3",
   "language": "python",
   "name": "python3"
  },
  "language_info": {
   "codemirror_mode": {
    "name": "ipython",
    "version": 3
   },
   "file_extension": ".py",
   "mimetype": "text/x-python",
   "name": "python",
   "nbconvert_exporter": "python",
   "pygments_lexer": "ipython3",
   "version": "3.7.6"
  }
 },
 "nbformat": 4,
 "nbformat_minor": 4
}
